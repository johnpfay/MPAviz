{
 "cells": [
  {
   "cell_type": "code",
   "execution_count": 1,
   "metadata": {},
   "outputs": [],
   "source": [
    "#Load packages\n",
    "from arcgis import GIS\n",
    "import pandas as pd"
   ]
  },
  {
   "cell_type": "code",
   "execution_count": 2,
   "metadata": {},
   "outputs": [],
   "source": [
    "#Create GIS object\n",
    "gis = GIS()"
   ]
  },
  {
   "cell_type": "markdown",
   "metadata": {},
   "source": [
    "### Load data into spatial dataframes"
   ]
  },
  {
   "cell_type": "code",
   "execution_count": 2,
   "metadata": {},
   "outputs": [],
   "source": [
    "#Load needs data\n",
    "fname_needs = '../Data/raw/Basic_Data/1_Conservation_Need.shp'\n",
    "sdfNeeds = pd.DataFrame.spatial.from_featureclass(fname_needs)"
   ]
  },
  {
   "cell_type": "code",
   "execution_count": 3,
   "metadata": {},
   "outputs": [],
   "source": [
    "#Load opportunity data\n",
    "fname_opportunity = '../Data/raw/Basic_Data/5_Combined_Opportunity.shp'\n",
    "sdfOpps = pd.DataFrame.spatial.from_featureclass(fname_opportunity)"
   ]
  },
  {
   "cell_type": "code",
   "execution_count": 4,
   "metadata": {},
   "outputs": [],
   "source": [
    "#Load hexagon data\n",
    "fname_hex = '../scratch/Hexagons_from_R.shp'\n",
    "sdfHex = pd.DataFrame.spatial.from_featureclass(fname_hex)"
   ]
  },
  {
   "cell_type": "markdown",
   "metadata": {},
   "source": [
    "#### Plots"
   ]
  },
  {
   "cell_type": "code",
   "execution_count": 6,
   "metadata": {},
   "outputs": [
    {
     "data": {
      "text/plain": [
       "<matplotlib.axes._subplots.AxesSubplot at 0x1f6f10f0ba8>"
      ]
     },
     "execution_count": 6,
     "metadata": {},
     "output_type": "execute_result"
    },
    {
     "data": {
      "image/png": "[encoded data removed]",
      "text/plain": [
       "<Figure size 432x288 with 1 Axes>"
      ]
     },
     "metadata": {
      "needs_background": "light"
     },
     "output_type": "display_data"
    }
   ],
   "source": [
    "sdfHex.NeedTotal.hist()"
   ]
  },
  {
   "cell_type": "code",
   "execution_count": null,
   "metadata": {},
   "outputs": [],
   "source": []
  },
  {
   "cell_type": "code",
   "execution_count": null,
   "metadata": {},
   "outputs": [],
   "source": []
  },
  {
   "cell_type": "code",
   "execution_count": null,
   "metadata": {},
   "outputs": [],
   "source": []
  },
  {
   "cell_type": "markdown",
   "metadata": {},
   "source": [
    "### Extract information"
   ]
  },
  {
   "cell_type": "code",
   "execution_count": 52,
   "metadata": {},
   "outputs": [
    {
     "data": {
      "text/plain": [
       "array(['Dr. Christian Reiss', 'Dr. Dirk Welsford', 'Grant Humphries',\n",
       "       'Javier Arata', 'Dr. Heather Lynch', 'Philiip Trathan',\n",
       "       'Dr. Susie Grant', 'Dr. Katherine Teschke', 'Pål Skogrand',\n",
       "       'Bettina Meyer', 'So Kawaguhi', 'Chris Johnson', 'Jefferson Hinke',\n",
       "       'Dr. Cassandra Brooks', 'Claire Christian', 'Christopher Jones',\n",
       "       'Dr. César Cárdenas', 'Maximo Gowland'], dtype=object)"
      ]
     },
     "execution_count": 52,
     "metadata": {},
     "output_type": "execute_result"
    }
   ],
   "source": [
    "#Create a list of users and print them\n",
    "all_users =sdfNeeds['USER_NAME'].unique()\n",
    "all_users"
   ]
  },
  {
   "cell_type": "code",
   "execution_count": 54,
   "metadata": {},
   "outputs": [
    {
     "name": "stdout",
     "output_type": "stream",
     "text": [
      "Selected user is: Javier Arata\n"
     ]
    }
   ],
   "source": [
    "#Tally records for a given user\n",
    "user = all_users[3]\n",
    "print(F\"Selected user is: {user}\")"
   ]
  },
  {
   "cell_type": "code",
   "execution_count": 58,
   "metadata": {},
   "outputs": [
    {
     "data": {
      "text/plain": [
       "[5, 6, 7, 8, 9]"
      ]
     },
     "execution_count": 58,
     "metadata": {},
     "output_type": "execute_result"
    }
   ],
   "source": [
    "#Select records for user\n",
    "user_Need = sdfNeeds.query(F'USER_NAME == \"{user}\"')\n",
    "list(user_Need['FID'].unique())"
   ]
  },
  {
   "cell_type": "code",
   "execution_count": 60,
   "metadata": {},
   "outputs": [
    {
     "data": {
      "text/plain": [
       "['need5', 'need6', 'need7', 'need8', 'need9']"
      ]
     },
     "execution_count": 60,
     "metadata": {},
     "output_type": "execute_result"
    }
   ],
   "source": [
    "#Get column names to select\n",
    "colnames = ['need'+str(x) for x in list(user_Need['FID'].unique())]\n",
    "colnames"
   ]
  },
  {
   "cell_type": "code",
   "execution_count": 97,
   "metadata": {},
   "outputs": [
    {
     "data": {
      "text/plain": [
       "array([0., 1.])"
      ]
     },
     "execution_count": 97,
     "metadata": {},
     "output_type": "execute_result"
    }
   ],
   "source": [
    "#Tally hexagons\n",
    "sdfHex['SelecTotal'] = sdfHex.loc[:,colnames].sum(axis=1)\n",
    "sdfHex['SelecTotal'].unique()"
   ]
  },
  {
   "cell_type": "code",
   "execution_count": 100,
   "metadata": {
    "scrolled": true
   },
   "outputs": [
    {
     "data": {
      "application/vnd.jupyter.widget-view+json": {
       "model_id": "81e895eb27c9446493dbf53540962822",
       "version_major": 2,
       "version_minor": 0
      },
      "text/plain": [
       "MapView(layout=Layout(height='400px', width='100%'))"
      ]
     },
     "metadata": {},
     "output_type": "display_data"
    },
    {
     "data": {
      "text/html": [
       "<div class=\"map-static-img-preview-110d44c3-cbac-4833-8de8-1ac705b75965\"><img src=\"\"></img></div>"
      ],
      "text/plain": [
       "<IPython.core.display.HTML object>"
      ]
     },
     "metadata": {},
     "output_type": "display_data"
    }
   ],
   "source": [
    "sdfSubset  = sdfHex.loc[sdfHex.SelecTotal > 0]\n",
    "sdfSubset.spatial.plot(renderer_type='c',\n",
    "                       method='esriClassifyEqualInterval',\n",
    "                       class_count = 5,\n",
    "                       cmap='Reds',\n",
    "                       line_width=0.0,\n",
    "                       col='NeedTotal')"
   ]
  },
  {
   "cell_type": "code",
   "execution_count": null,
   "metadata": {},
   "outputs": [],
   "source": []
  }
 ],
 "metadata": {
  "kernelspec": {
   "display_name": "Python 3",
   "language": "python",
   "name": "python3"
  },
  "language_info": {
   "codemirror_mode": {
    "name": "ipython",
    "version": 3
   },
   "file_extension": ".py",
   "mimetype": "text/x-python",
   "name": "python",
   "nbconvert_exporter": "python",
   "pygments_lexer": "ipython3",
   "version": "3.6.9"
  }
 },
 "nbformat": 4,
 "nbformat_minor": 4
}
