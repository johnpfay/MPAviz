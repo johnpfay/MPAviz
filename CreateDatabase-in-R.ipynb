{
 "cells": [
  {
   "cell_type": "markdown",
   "metadata": {},
   "source": [
    "## Create Database in R\n",
    "This notebook creates the hexagon database using R's `sf` package. \n",
    "\n",
    "The workflow:\n",
    "* Import the `sf` package.\n",
    "* Import the needs and hexagon shapefiles as spatial feature dataframes \n",
    " * Transform the hexagon feature class to the same coord. system as the needs\n",
    "* Convert the hexagon geometries to a series of centroid geometries\n",
    "* Iterate through each feature in the needs spatial dataframe\n",
    " * Create a new column in the hexagon dataframe corresponding to the need feature\n",
    "  * Set default values to '0'\n",
    " * Extract the geometry for the feature\n",
    " * Create a boolean mask of all centroids that intersect the need geometry\n",
    " * Using the mask, set all corresponding features in the new column to '1'\n",
    " * Move to the next feature in the needs dataframe"
   ]
  },
  {
   "cell_type": "code",
   "execution_count": null,
   "metadata": {},
   "outputs": [],
   "source": [
    "#Import packages\n",
    "library(sf)\n",
    "library(dplyr)"
   ]
  },
  {
   "cell_type": "markdown",
   "metadata": {},
   "source": [
    "### Read in and prep the spatial data"
   ]
  },
  {
   "cell_type": "code",
   "execution_count": null,
   "metadata": {},
   "outputs": [],
   "source": [
    "#set input & output filenames\n",
    "fname_need <- '../Data/raw/Basic_Data/1_Conservation_Need.shp'\n",
    "fname_hex <- '../Data/raw/Hexagon_files/100km2_D1_LamAzimNeed.shp'\n",
    "fname_output <- '../scratch/Hexagons_from_R.shp'"
   ]
  },
  {
   "cell_type": "code",
   "execution_count": null,
   "metadata": {},
   "outputs": [],
   "source": [
    "#Read in the needs shapefile\n",
    "fcNeed <- st_read(fname_need,quiet=TRUE)"
   ]
  },
  {
   "cell_type": "code",
   "execution_count": null,
   "metadata": {},
   "outputs": [],
   "source": [
    "#Read in the hexagons shapefile\n",
    "fcHex <- st_read(fname_hex,quiet=TRUE)"
   ]
  },
  {
   "cell_type": "code",
   "execution_count": null,
   "metadata": {},
   "outputs": [],
   "source": [
    "#Transform the hexagons feature class to match the coordinate system of the needs\n",
    "fcHex <- st_transform(fcHex,st_crs(fcNeed))"
   ]
  },
  {
   "cell_type": "code",
   "execution_count": null,
   "metadata": {},
   "outputs": [],
   "source": [
    "#Create a geoseries of centroids from the hexagon polygon geoseries\n",
    "hex.centroids <- st_centroid(fcHex['geometry'])"
   ]
  },
  {
   "cell_type": "markdown",
   "metadata": {},
   "source": [
    "## Construct the hexagon database"
   ]
  },
  {
   "cell_type": "code",
   "execution_count": null,
   "metadata": {},
   "outputs": [],
   "source": [
    "#Iterate through each record in the needs feature class\n",
    "counter <- 1\n",
    "for (row in 1:nrow(fcNeed)) {\n",
    "    #Set the output column name\n",
    "    col.name <- paste(\"need\",counter,sep='')\n",
    "    #Increment the counter\n",
    "    counter <- counter + 1\n",
    "    #Get the shape\n",
    "    sel.shape <- fcHex[row,'geometry']\n",
    "    #Construct a Boolean mask where the hexagon features intersect the shape\n",
    "    sel.mask = st_intersects(sel.shape,hex.centroids,sparse=FALSE)\n",
    "    #Set default value in a new column to zero\n",
    "    fcHex[col.name] = 0\n",
    "    #Update masked features to a value of 1\n",
    "    fcHex[sel.mask,col.name] = 1  \n",
    "}"
   ]
  },
  {
   "cell_type": "code",
   "execution_count": null,
   "metadata": {},
   "outputs": [],
   "source": [
    "#Create a total column\n",
    "fcHex$NeedTotal <- as.data.frame(fcHex) %>% \n",
    " select(starts_with(\"need\")) %>%\n",
    " rowSums()"
   ]
  },
  {
   "cell_type": "code",
   "execution_count": null,
   "metadata": {},
   "outputs": [],
   "source": [
    "colnames(fcHex)"
   ]
  },
  {
   "cell_type": "code",
   "execution_count": null,
   "metadata": {},
   "outputs": [],
   "source": [
    "#Write results\n",
    "st_write(fcHex,fname_output,delete_layer=TRUE)"
   ]
  },
  {
   "cell_type": "code",
   "execution_count": null,
   "metadata": {},
   "outputs": [],
   "source": []
  }
 ],
 "metadata": {
  "kernelspec": {
   "display_name": "R",
   "language": "R",
   "name": "ir"
  },
  "language_info": {
   "codemirror_mode": "r",
   "file_extension": ".r",
   "mimetype": "text/x-r-source",
   "name": "R",
   "pygments_lexer": "r",
   "version": "3.6.1"
  }
 },
 "nbformat": 4,
 "nbformat_minor": 4
}
